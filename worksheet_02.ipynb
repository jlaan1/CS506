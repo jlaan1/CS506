{
 "cells": [
  {
   "cell_type": "markdown",
   "metadata": {},
   "source": [
    "# Worksheet 02\n",
    "\n",
    "Name:  Jialei Lan\n",
    "UID: U71321358\n",
    "\n",
    "### Topics\n",
    "\n",
    "- Effective Programming\n",
    "\n",
    "### Effective Programming\n",
    "\n",
    "a) What is a drawback of the top down approach?\n",
    "\n"
   ]
  },
  {
   "cell_type": "markdown",
   "metadata": {},
   "source": [
    "Code gets implemented slower since it has to be designed first, so any working prototypes will be delayed\n",
    "\n",
    "Risk of overengineering since developers might try to design unnecessary/complex features that are not required, leading to higher development times\n",
    "\n",
    "Difficult to test code since lower level components might not be fully implemented when the testing begins, leading to more delays when identifying bugs"
   ]
  },
  {
   "cell_type": "markdown",
   "metadata": {},
   "source": [
    "b) What is a drawback of the bottom up approach?"
   ]
  },
  {
   "cell_type": "markdown",
   "metadata": {},
   "source": [
    "It lacks a design perspective since working your way up (bottom up) means that you generally do not have an idea of how the different snippets of code fit together to achieve the overarching goal\n",
    "\n",
    "There could be a redundancy in writing code; code with the same/very similar functionalities could be implemented multiple times due to the bottom up approach\n",
    "\n",
    "Developers might stray away from the main scope of the project by unintentionally expanding it beyond its original boundaries"
   ]
  },
  {
   "cell_type": "markdown",
   "metadata": {},
   "source": [
    "c) What are 3 things you can do to have a better debugging experience?"
   ]
  },
  {
   "cell_type": "markdown",
   "metadata": {},
   "source": []
  },
  {
   "cell_type": "code",
   "execution_count": null,
   "metadata": {},
   "outputs": [],
   "source": [
    "Narrow down the bug to specific areas (e.g. if it is caused by an out of bounds exception, it must occur when you increment a variable)\n",
    "\n",
    "Take a break to refresh your mind\n",
    "\n",
    "Look for help online to see how others fixed the same/similar issues"
   ]
  },
  {
   "cell_type": "markdown",
   "metadata": {},
   "source": [
    "d) Follow along with the live coding. You can write your code here:"
   ]
  },
  {
   "cell_type": "code",
   "execution_count": 1,
   "metadata": {},
   "outputs": [],
   "source": [
    "class Board:\n",
    "    def __init__(self):\n",
    "        self.board = [[\"_\" for _ in range(8)] for _ in range(8)]\n",
    "        \n",
    "    def __repr__(self):\n",
    "        for i in range(len(self.board)):\n",
    "            print()\n",
    "        \n",
    "    def is_legal_row(self, r, c):\n",
    "        for col in range(len(self.board)):\n",
    "            if self.board[r][col] == 'Q':\n",
    "                return False\n",
    "        return True\n",
    "    \n",
    "    def is_legal_col(self, r, c):\n",
    "        for row in range(len(self.board)):\n",
    "            if self.board[row][c] == 'Q':\n",
    "                return False\n",
    "        return True\n",
    "    \n",
    "    def is_on_board(self, r, c):\n",
    "        return r >= 0 and r < 8 and c >= 0 and c < 8\n",
    "    \n",
    "    def is_legal_diag(self, r, c):\n",
    "        for row in range(len(self.board)):\n",
    "            if self.is_on_board(r - row, c - row) and self.board[r - row][c - row] == 'Q':\n",
    "                return False\n",
    "            if self.is_on_board(r - row, c + row) and self.board[r - row][c + row] == 'Q':\n",
    "                return False\n",
    "            if self.is_on_board(r + row, c - row) and self.board[r + row][c - row] == 'Q':\n",
    "                return False\n",
    "            if self.is_on_board(r + row, c + row) and self.board[r + row][c + row] == 'Q':\n",
    "                return False\n",
    "            \n",
    "            \n",
    "    def is_legal(self, r, c):\n",
    "        if not self.is_legal_row(r, c):\n",
    "            return False\n",
    "        if not self.is_legal_col(r, c):\n",
    "            return False\n",
    "        return True\n",
    "    \n",
    "    def set_queen_at(self, r, c):\n",
    "        self.board[r][c] = \"Q\"\n",
    "        \n",
    "    def unset_queen_on(self, r):\n",
    "        self.board[r] = [\"_\" for _ in range(8)]\n",
    "        \n",
    "    def get_queen_on(self, r):\n",
    "        for c in range(len(self.board)):\n",
    "            if self.board[r][c] == 'Q':\n",
    "                return c\n",
    "        raise ValueError(\"programmer error\")\n",
    "        \n",
    "    def solve(self):\n",
    "        \n",
    "        r = 0\n",
    "        c = 0\n",
    "        \n",
    "        while r < 8:\n",
    "            if self.is_legal(r,c):\n",
    "                self.set_queen_at(r,c)\n",
    "                r += 1\n",
    "                c = 0\n",
    "            else:\n",
    "                c += 1\n",
    "                if c >= 8:\n",
    "                    c = self.get_queen_on(r - 1)\n",
    "                    self.unset_queen_on(r - 1)\n",
    "                    c += 1\n",
    "                    r -= 1\n",
    "        print(\"found solution\")\n",
    "        \n",
    "    def search_all(self):\n",
    "        row = 0\n",
    "        col = 0\n",
    "\n",
    "        while row >= 0:\n",
    "            if row < 8:\n",
    "                if self.is_legal(row,col):\n",
    "                    self.set_queen_at(row,col)\n",
    "                    row += 1\n",
    "                    col = 0\n",
    "                else:\n",
    "                    col +=1\n",
    "                    while col >= 8:\n",
    "                        col = self.get_queen_on(row-1)\n",
    "                        self.unset_queen_on(row-1)\n",
    "                        col += 1\n",
    "                        row -= 1\n",
    "\n",
    "            else:\n",
    "                print(\"Found a solution\")\n",
    "                print(self)\n",
    "                while col >= 8:\n",
    "                    col = self.get_queen_on(row-1)\n",
    "                    self.unset_queen_on(row-1)\n",
    "                    col += 1\n",
    "                    row -= 1\n",
    "        print(\"No more solutions\")"
   ]
  }
 ],
 "metadata": {
  "kernelspec": {
   "display_name": "Python 3",
   "language": "python",
   "name": "python3"
  },
  "language_info": {
   "codemirror_mode": {
    "name": "ipython",
    "version": 3
   },
   "file_extension": ".py",
   "mimetype": "text/x-python",
   "name": "python",
   "nbconvert_exporter": "python",
   "pygments_lexer": "ipython3",
   "version": "3.7.6"
  },
  "vscode": {
   "interpreter": {
    "hash": "76ca05dc3ea24b2e3b98cdb7774adfbb40773424bf5109b477fd793f623715af"
   }
  }
 },
 "nbformat": 4,
 "nbformat_minor": 2
}

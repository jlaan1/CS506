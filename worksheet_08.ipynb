{
 "cells": [
  {
   "cell_type": "markdown",
   "metadata": {},
   "source": [
    "# Worksheet 08\n",
    "\n",
    "Name:  \n",
    "UID: \n",
    "\n",
    "### Topics\n",
    "\n",
    "- Soft Clustering\n",
    "- Clustering Aggregation\n",
    "\n",
    "### Probability Review\n",
    "\n",
    "Read through [the following](https://medium.com/@gallettilance/overview-of-probability-3272b72c82c8)\n",
    "\n",
    "### Soft Clustering\n",
    "\n",
    "We generate 10 data points that come from a normal distribution with mean 5 and variance 1."
   ]
  },
  {
   "cell_type": "code",
   "execution_count": 2,
   "metadata": {},
   "outputs": [
    {
     "name": "stdout",
     "output_type": "stream",
     "text": [
      "[5.015140752916174, 5.641055696800138, 2.8442276243273326, 5.566908634271693, 3.893542190177791, 5.154014998651131, 4.731958879172958, 4.892423031457026, 4.330704622709736, 5.688413532390584]\n"
     ]
    }
   ],
   "source": [
    "import random\n",
    "import numpy as np\n",
    "from sklearn.cluster import KMeans\n",
    "\n",
    "mean = 5\n",
    "stdev = 1\n",
    "\n",
    "s1 = np.random.normal(mean, stdev, 10).tolist()\n",
    "print(s1)"
   ]
  },
  {
   "cell_type": "markdown",
   "metadata": {},
   "source": [
    "a) Generate 10 more data points, this time coming from a normal distribution with mean 8 and variance 1."
   ]
  },
  {
   "cell_type": "code",
   "execution_count": 4,
   "metadata": {},
   "outputs": [
    {
     "name": "stdout",
     "output_type": "stream",
     "text": [
      "[9.83429584962833, 8.156877448815841, 7.821766218045859, 8.884732248835702, 9.835974558206726, 7.921689632480854, 8.320755084537545, 6.236036587564709, 5.880260520334039, 8.607218202703514]\n"
     ]
    }
   ],
   "source": [
    "s2 = np.random.normal( 8 , 1 , 10 ).tolist()\n",
    "print(s2)"
   ]
  },
  {
   "cell_type": "markdown",
   "metadata": {},
   "source": [
    "b) Flip a fair coin 10 times. If the coin lands on H, then pick the last data point of `c1` and remove it from `c1`, if T then pick the last data point from `c2` and remove it from `c2`. Add these 10 points to a list called `data`."
   ]
  },
  {
   "cell_type": "code",
   "execution_count": 5,
   "metadata": {},
   "outputs": [
    {
     "name": "stdout",
     "output_type": "stream",
     "text": [
      "[8.607218202703514, 5.688413532390584, 5.880260520334039, 6.236036587564709, 4.330704622709736, 8.320755084537545, 4.892423031457026, 7.921689632480854, 9.835974558206726, 8.884732248835702]\n"
     ]
    }
   ],
   "source": [
    "data = []\n",
    "for i in range(10):\n",
    "    # flip coin\n",
    "    coin_output = random.choice([0, 1])\n",
    "    if coin_output == 0:\n",
    "        p1 = s1.pop()\n",
    "        data.append(p1)\n",
    "    else:\n",
    "        p2 = s2.pop()\n",
    "        data.append(p2)\n",
    "print(data)"
   ]
  },
  {
   "cell_type": "markdown",
   "metadata": {},
   "source": [
    "c) This `data` is a Gaussian Mixture Distribution with 2 mixture components. Over the next few questions we will walk through the GMM algorithm to see if we can uncover the parameters we used to generate this data. First, please list all these parameters of the GMM that created `data` and the values we know they have."
   ]
  },
  {
   "cell_type": "markdown",
   "metadata": {},
   "source": [
    "Mean, variance"
   ]
  },
  {
   "cell_type": "markdown",
   "metadata": {},
   "source": [
    "d) Let's assume there are two mixture components (note: we could plot the data and make the observation that there are two clusters). The EM algorithm asks us to start with a random `mean_j`, `variance_j`, `P(S_j)` for each component j. One method we could use to find sensible values for these is to apply K means with k=2 here.\n",
    "\n",
    "1. the centroids would be the estimates of the `mean_j`\n",
    "2. the intra-cluster variance could be the estimate of `variance_j`\n",
    "3. the proportion of points in each cluster could be the estimate of `P(S_j)`\n",
    "\n",
    "Go through this process and list the parameter estimates it gives. Are they close or far from the true values?"
   ]
  },
  {
   "cell_type": "code",
   "execution_count": 15,
   "metadata": {},
   "outputs": [
    {
     "name": "stdout",
     "output_type": "stream",
     "text": [
      "[5.688413532390584, 5.880260520334039, 6.236036587564709, 4.330704622709736, 4.892423031457026]\n",
      "[8.607218202703514, 8.320755084537545, 7.921689632480854, 9.835974558206726, 8.884732248835702]\n",
      "P(S_1) = 0.5,  P(S_2) = 0.5\n",
      "mean_1 = 5.405567658891219,  mean_2 = 8.714073945352869\n",
      "var_1 = 0.4827323395132675,  var_2 = 0.4163552033930724\n"
     ]
    }
   ],
   "source": [
    "kmeans = KMeans(2, init='k-means++').fit(X=np.array(data).reshape(-1, 1))\n",
    "\n",
    "s1 = [x[0] for x in filter(lambda x: x[1] == 0, zip(data, kmeans.labels_))]\n",
    "print(s1)\n",
    "s2 = [x[0] for x in filter(lambda x: x[1] == 1, zip(data, kmeans.labels_))]\n",
    "print(s2)\n",
    "\n",
    "prob_s = [ len(s1) / (len(s1) + len(s2)) , len(s2) / (len(s1) + len(s2)) ]\n",
    "mean = [ sum(s1)/len(s1) , sum(s2)/len(s2) ]\n",
    "var = [ sum(map(lambda x : (x - mean[0])**2, s1)) / len(s1) , sum(map(lambda x : (x - mean[1])**2, s2)) / len(s2) ]\n",
    "\n",
    "print(\"P(S_1) = \" + str(prob_s[0]) + \",  P(S_2) = \" + str(prob_s[1]))\n",
    "print(\"mean_1 = \" + str(mean[0]) + \",  mean_2 = \" + str(mean[1]))\n",
    "print(\"var_1 = \" + str(var[0]) + \",  var_2 = \" + str(var[1]))"
   ]
  },
  {
   "cell_type": "markdown",
   "metadata": {},
   "source": []
  },
  {
   "cell_type": "markdown",
   "metadata": {},
   "source": [
    "e) For each data point, compute `P(S_j | X_i)`. Comment on which cluster you think each point belongs to based on the estimated probabilities. How does that compare to the truth?"
   ]
  },
  {
   "cell_type": "code",
   "execution_count": 21,
   "metadata": {},
   "outputs": [
    {
     "name": "stdout",
     "output_type": "stream",
     "text": [
      "point =  8.607218202703514\n",
      "probability of observing that point if it came from cluster 0 =  2.3190608479279016e-10\n",
      "probability of observing that point if it came from cluster 1 =  0.9271355556282294\n",
      "point =  5.688413532390584\n",
      "probability of observing that point if it came from cluster 0 =  0.6960729782621278\n",
      "probability of observing that point if it came from cluster 1 =  3.2658818494280103e-12\n",
      "point =  5.880260520334039\n",
      "probability of observing that point if it came from cluster 0 =  0.5095994977687418\n",
      "probability of observing that point if it came from cluster 1 =  8.358364609447112e-11\n",
      "point =  6.236036587564709\n",
      "probability of observing that point if it came from cluster 0 =  0.18816258150877874\n",
      "probability of observing that point if it came from cluster 1 =  1.9471411838670275e-08\n",
      "point =  4.330704622709736\n",
      "probability of observing that point if it came from cluster 0 =  0.06928193578947928\n",
      "probability of observing that point if it came from cluster 1 =  8.190500525632944e-25\n",
      "point =  8.320755084537545\n",
      "probability of observing that point if it came from cluster 0 =  9.956989175049752e-09\n",
      "probability of observing that point if it came from cluster 1 =  0.6132859046291218\n",
      "point =  4.892423031457026\n",
      "probability of observing that point if it came from cluster 0 =  0.4697144024907054\n",
      "probability of observing that point if it came from cluster 1 =  4.859786907162626e-19\n",
      "point =  7.921689632480854\n",
      "probability of observing that point if it came from cluster 0 =  1.041942017756675e-06\n",
      "probability of observing that point if it came from cluster 1 =  0.1566560876101075\n",
      "point =  9.835974558206726\n",
      "probability of observing that point if it came from cluster 0 =  4.232235261460657e-19\n",
      "probability of observing that point if it came from cluster 1 =  0.025397841193537128\n",
      "point =  8.884732248835702\n",
      "probability of observing that point if it came from cluster 0 =  4.341715903360378e-12\n",
      "probability of observing that point if it came from cluster 1 =  0.8809755522247799\n",
      "8.607218202703514\n",
      "Probability of coming from S_1 = 2.5013179931131315e-10\n",
      "Probability of coming from S_2 = 0.9999999997498682\n",
      "\n",
      "5.688413532390584\n",
      "Probability of coming from S_1 = 0.9999999999953082\n",
      "Probability of coming from S_2 = 4.691867018838388e-12\n",
      "\n",
      "5.880260520334039\n",
      "Probability of coming from S_1 = 0.9999999998359816\n",
      "Probability of coming from S_2 = 1.6401830544717773e-10\n",
      "\n",
      "6.236036587564709\n",
      "Probability of coming from S_1 = 0.9999998965181617\n",
      "Probability of coming from S_2 = 1.0348183824648656e-07\n",
      "\n",
      "4.330704622709736\n",
      "Probability of coming from S_1 = 1.0\n",
      "Probability of coming from S_2 = 1.1821985676786909e-23\n",
      "\n",
      "8.320755084537545\n",
      "Probability of coming from S_1 = 1.623547669730755e-08\n",
      "Probability of coming from S_2 = 0.9999999837645234\n",
      "\n",
      "4.892423031457026\n",
      "Probability of coming from S_1 = 1.0\n",
      "Probability of coming from S_2 = 1.0346259091467375e-18\n",
      "\n",
      "7.921689632480854\n",
      "Probability of coming from S_1 = 6.651098617314987e-06\n",
      "Probability of coming from S_2 = 0.9999933489013827\n",
      "\n",
      "9.835974558206726\n",
      "Probability of coming from S_1 = 1.666375984167353e-17\n",
      "Probability of coming from S_2 = 1.0\n",
      "\n",
      "8.884732248835702\n",
      "Probability of coming from S_1 = 4.928304641796913e-12\n",
      "Probability of coming from S_2 = 0.9999999999950716\n",
      "\n"
     ]
    }
   ],
   "source": [
    "from scipy.stats import norm\n",
    "\n",
    "prob_s0_x = [] # P(S_0 | X_i)\n",
    "prob_s1_x = [] # P(S_1 | X_i)\n",
    "prob_x = [] # P(X_i)\n",
    "\n",
    "k = 2\n",
    "\n",
    "for p in data:\n",
    "    print(\"point = \", p)\n",
    "    pdf_i = []\n",
    "\n",
    "    for j in range(k):\n",
    "        # P(X_i | S_j)\n",
    "        pdf_i.append(norm.pdf(p, mean[j], var[j]))\n",
    "        print(\"probability of observing that point if it came from cluster \" + str(j) + \" = \", pdf_i[j])\n",
    "        # P(S_j) already computed\n",
    "        prob_s[j]\n",
    "\n",
    "    # P(X_i) = P(S_0)P(X_i | S_0) + P(S_1)P(X_i | S_1)\n",
    "    prob_x = prob_s[0] * pdf_i[0] + prob_s[1] * pdf_i[1]\n",
    "\n",
    "    # P(S_j | X_i) = P(X_i | S_j)P(S_j) / P(X_i)\n",
    "    prob_s0_x.append( pdf_i[0]*prob_s[0] / prob_x )\n",
    "    prob_s1_x.append( pdf_i[1]*prob_s[1] / prob_x )\n",
    "\n",
    "probs = zip(data, prob_s0_x, prob_s1_x)\n",
    "for p in probs:\n",
    "    print(p[0])\n",
    "    print(\"Probability of coming from S_1 = \" + str(p[1]))\n",
    "    print(\"Probability of coming from S_2 = \" + str(p[2]))\n",
    "    print()\n"
   ]
  },
  {
   "cell_type": "markdown",
   "metadata": {},
   "source": [
    "f) Having computed `P(S_j | X_i)`, update the estimates of `mean_j`, `var_j`, and `P(S_j)`. How different are these values from the original ones you got from K means? briefly comment."
   ]
  },
  {
   "cell_type": "code",
   "execution_count": 34,
   "metadata": {},
   "outputs": [
    {
     "name": "stdout",
     "output_type": "stream",
     "text": [
      "P(S_1) = 0.5,  P(S_2) = 0.5\n",
      "mean_1 = 5.405570998307871,  mean_2 = 8.714074949299576\n",
      "var_1 = 0.4827401410529102,  var_2 = 0.4163550416275781\n"
     ]
    }
   ],
   "source": [
    "prob_c = [sum(prob_s0_x)/ len(prob_s0_x), sum(prob_s1_x) / len(prob_s1_x) ]\n",
    "mean = [sum([x[0] * x[1] for x in zip(prob_s0_x, data)]) / sum(prob_s0_x),\n",
    "        sum([x[0] * x[1] for x in zip(prob_s1_x, data)]) / sum(prob_s1_x)]\n",
    "var = [sum([x[0] * (x[1] - mean[0]) * (x[1] - mean[0]) for x in zip(prob_s0_x, data)]) / sum(prob_s0_x),\n",
    "       sum([x[0] * (x[1] - mean[1]) * (x[1] - mean[1]) for x in zip(prob_s1_x, data)]) / sum(prob_s1_x)]\n",
    "\n",
    "print(\"P(S_1) = \" + str(prob_s[0]) + \",  P(S_2) = \" + str(prob_s[1]))\n",
    "print(\"mean_1 = \" + str(mean[0]) + \",  mean_2 = \" + str(mean[1]))\n",
    "print(\"var_1 = \" + str(var[0]) + \",  var_2 = \" + str(var[1]))"
   ]
  },
  {
   "cell_type": "markdown",
   "metadata": {},
   "source": []
  },
  {
   "cell_type": "markdown",
   "metadata": {},
   "source": [
    "g) Update `P(S_j | X_i)`. Comment on any differences or lack thereof you observe."
   ]
  },
  {
   "cell_type": "code",
   "execution_count": null,
   "metadata": {},
   "outputs": [],
   "source": [
    "prob_s0_x = [] # P(S_0 | X_i)\n",
    "prob_s1_x = [] # P(S_1 | X_i)\n",
    "prob_x = [] # P(X_i)\n",
    "\n",
    "k = 2\n",
    "\n",
    "for p in data:\n",
    "    print(\"point = \", p)\n",
    "    pdf_i = []\n",
    "\n",
    "    for j in range(k):\n",
    "        # P(X_i | S_j)\n",
    "        pdf_i.append(norm.pdf(p, mean[j], var[j]))\n",
    "        print(\"probability of observing that point if it came from cluster \" + str(j) + \" = \", pdf_i[j])\n",
    "        # P(S_j) already computed\n",
    "        prob_s[j]\n",
    "\n",
    "    # P(X_i) = P(S_0)P(X_i | S_0) + P(S_1)P(X_i | S_1)\n",
    "    prob_x = prob_s[0] * pdf_i[0] + prob_s[1] * pdf_i[1]\n",
    "\n",
    "    # P(S_j | X_i) = P(X_i | S_j)P(S_j) / P(X_i)\n",
    "    prob_s0_x.append( pdf_i[0]*prob_s[0] / prob_x )\n",
    "    prob_s1_x.append( pdf_i[1]*prob_s[1] / prob_x )\n",
    "\n",
    "probs = zip(data, prob_s0_x, prob_s1_x)\n",
    "for p in probs:\n",
    "    print(p[0])\n",
    "    print(\"Probability of coming from S_1 = \" + str(p[1]))\n",
    "    print(\"Probability of coming from S_2 = \" + str(p[2]))\n",
    "    print()"
   ]
  },
  {
   "cell_type": "markdown",
   "metadata": {},
   "source": []
  },
  {
   "cell_type": "markdown",
   "metadata": {},
   "source": [
    "h) Use `P(S_j | X_i)` to create a hard assignment - label each point as belonging to a specific cluster (0 or 1)"
   ]
  },
  {
   "cell_type": "code",
   "execution_count": 38,
   "metadata": {},
   "outputs": [
    {
     "name": "stdout",
     "output_type": "stream",
     "text": [
      "Point 8.607218202703514 is assigned to cluster 1\n",
      "Point 5.688413532390584 is assigned to cluster 0\n",
      "Point 5.880260520334039 is assigned to cluster 0\n",
      "Point 6.236036587564709 is assigned to cluster 0\n",
      "Point 4.330704622709736 is assigned to cluster 0\n",
      "Point 8.320755084537545 is assigned to cluster 1\n",
      "Point 4.892423031457026 is assigned to cluster 0\n",
      "Point 7.921689632480854 is assigned to cluster 1\n",
      "Point 9.835974558206726 is assigned to cluster 1\n",
      "Point 8.884732248835702 is assigned to cluster 1\n"
     ]
    }
   ],
   "source": [
    "for i in range(len(data)):\n",
    "    assigned_cluster = np.argmax([prob_s0_x[i], prob_s1_x[i]])\n",
    "    print(\"Point\", data[i], \"is assigned to cluster\", assigned_cluster)"
   ]
  }
 ],
 "metadata": {
  "kernelspec": {
   "display_name": "Python 3",
   "language": "python",
   "name": "python3"
  },
  "language_info": {
   "codemirror_mode": {
    "name": "ipython",
    "version": 3
   },
   "file_extension": ".py",
   "mimetype": "text/x-python",
   "name": "python",
   "nbconvert_exporter": "python",
   "pygments_lexer": "ipython3",
   "version": "3.7.6"
  },
  "vscode": {
   "interpreter": {
    "hash": "e7370f93d1d0cde622a1f8e1c04877d8463912d04d973331ad4851f04de6915a"
   }
  }
 },
 "nbformat": 4,
 "nbformat_minor": 2
}
